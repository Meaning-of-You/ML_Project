{
 "cells": [
  {
   "cell_type": "markdown",
   "metadata": {},
   "source": [
    "### 데이터 불러오기"
   ]
  },
  {
   "cell_type": "code",
   "execution_count": 1,
   "metadata": {},
   "outputs": [],
   "source": [
    "# pymysql import \n",
    "import pymysql"
   ]
  },
  {
   "cell_type": "code",
   "execution_count": 3,
   "metadata": {},
   "outputs": [],
   "source": [
    "# mysql 연결\n",
    "conn = pymysql.connect(host = '', # DB IP (local에 접속하는 경우 : localhost)\n",
    "                     port = 3306, # 포트 번호\n",
    "                     user = '',\n",
    "                     passwd = '', # mySQL 접속 계정 패스워드\n",
    "                     db = 'movie', # 데이터베이스명\n",
    "                     charset='utf8') # 한글 깨짐 방지"
   ]
  },
  {
   "cell_type": "code",
   "execution_count": 4,
   "metadata": {},
   "outputs": [],
   "source": [
    "# DB 조회 결과를 dictionary로 저장\n",
    "curs = conn.cursor(pymysql.cursors.DictCursor)"
   ]
  },
  {
   "cell_type": "code",
   "execution_count": 5,
   "metadata": {},
   "outputs": [
    {
     "data": {
      "text/plain": [
       "600"
      ]
     },
     "execution_count": 5,
     "metadata": {},
     "output_type": "execute_result"
    }
   ],
   "source": [
    "# movie 데이터 조회\n",
    "sql = '''\n",
    "SELECT * FROM movie\n",
    "''' \n",
    "curs.execute(sql)"
   ]
  },
  {
   "cell_type": "code",
   "execution_count": 6,
   "metadata": {},
   "outputs": [
    {
     "name": "stdout",
     "output_type": "stream",
     "text": [
      "{'title': '              개를 훔치는 완벽한 방법', 'distributor': '리틀빅픽처스', 'genre': '드라마', 'release_time': datetime.date(2014, 12, 31), 'time': 109, 'screening_rat': '전체 관람가', 'director': '김성호', 'dir_prev_bfnum': 495535.0, 'dir_prev_num': 1, 'num_staff': 292, 'num_actor': 8, 'box_off_num': 306642}\n"
     ]
    }
   ],
   "source": [
    "# 데이터 조회 결과를 result에 저장\n",
    "result = curs.fetchall()\n",
    "    \n",
    "print(result[0])"
   ]
  },
  {
   "cell_type": "code",
   "execution_count": 8,
   "metadata": {},
   "outputs": [],
   "source": [
    "# pandas 라이브러리 import\n",
    "import pandas as pd"
   ]
  },
  {
   "cell_type": "code",
   "execution_count": 9,
   "metadata": {
    "scrolled": true
   },
   "outputs": [
    {
     "name": "stdout",
     "output_type": "stream",
     "text": [
      "Index(['box_off_num', 'dir_prev_bfnum', 'dir_prev_num', 'director',\n",
      "       'distributor', 'genre', 'num_actor', 'num_staff', 'release_time',\n",
      "       'screening_rat', 'time', 'title'],\n",
      "      dtype='object')\n",
      "   box_off_num  dir_prev_bfnum  dir_prev_num director      distributor genre  \\\n",
      "0       306642        495535.0             1      김성호           리틀빅픽처스   드라마   \n",
      "1         4778             NaN             0      정성복  유니버설픽쳐스인터내셔널코리아   뮤지컬   \n",
      "2         1124         35348.0             1      한윤선              어뮤즈   느와르   \n",
      "3         3404             NaN             0      김태곤            인디스토리   드라마   \n",
      "4      2963652       2636380.0             1      조근현            인벤트 디    액션   \n",
      "\n",
      "   num_actor  num_staff release_time screening_rat  time  \\\n",
      "0          8        292   2014-12-31        전체 관람가   109   \n",
      "1          5          3   2014-09-18        전체 관람가   129   \n",
      "2          3        126   2014-08-14      청소년 관람불가   104   \n",
      "3          4         32   2013-02-21       15세 관람가    85   \n",
      "4          3        365   2012-11-29       15세 관람가   135   \n",
      "\n",
      "                         title  \n",
      "0                개를 훔치는 완벽한 방법  \n",
      "1              1789, 바스티유의 연인들  \n",
      "2              18: 우리들의 성장 느와르  \n",
      "3                     1999, 면회  \n",
      "4                          26년  \n"
     ]
    }
   ],
   "source": [
    "# 데이터 프레임으로 result 결과 저장\n",
    "df = pd.DataFrame(result)\n",
    "print(df.columns) # columns\n",
    "print(df.head())"
   ]
  },
  {
   "cell_type": "code",
   "execution_count": 11,
   "metadata": {},
   "outputs": [
    {
     "data": {
      "text/html": [
       "<div>\n",
       "<style scoped>\n",
       "    .dataframe tbody tr th:only-of-type {\n",
       "        vertical-align: middle;\n",
       "    }\n",
       "\n",
       "    .dataframe tbody tr th {\n",
       "        vertical-align: top;\n",
       "    }\n",
       "\n",
       "    .dataframe thead th {\n",
       "        text-align: right;\n",
       "    }\n",
       "</style>\n",
       "<table border=\"1\" class=\"dataframe\">\n",
       "  <thead>\n",
       "    <tr style=\"text-align: right;\">\n",
       "      <th></th>\n",
       "      <th>box_off_num</th>\n",
       "      <th>dir_prev_bfnum</th>\n",
       "      <th>dir_prev_num</th>\n",
       "      <th>director</th>\n",
       "      <th>distributor</th>\n",
       "      <th>genre</th>\n",
       "      <th>num_actor</th>\n",
       "      <th>num_staff</th>\n",
       "      <th>release_time</th>\n",
       "      <th>screening_rat</th>\n",
       "      <th>time</th>\n",
       "      <th>title</th>\n",
       "    </tr>\n",
       "  </thead>\n",
       "  <tbody>\n",
       "    <tr>\n",
       "      <th>0</th>\n",
       "      <td>306642</td>\n",
       "      <td>495535.0</td>\n",
       "      <td>1</td>\n",
       "      <td>김성호</td>\n",
       "      <td>리틀빅픽처스</td>\n",
       "      <td>드라마</td>\n",
       "      <td>8</td>\n",
       "      <td>292</td>\n",
       "      <td>2014-12-31</td>\n",
       "      <td>전체 관람가</td>\n",
       "      <td>109</td>\n",
       "      <td>개를 훔치는 완벽한 방법</td>\n",
       "    </tr>\n",
       "    <tr>\n",
       "      <th>1</th>\n",
       "      <td>4778</td>\n",
       "      <td>NaN</td>\n",
       "      <td>0</td>\n",
       "      <td>정성복</td>\n",
       "      <td>유니버설픽쳐스인터내셔널코리아</td>\n",
       "      <td>뮤지컬</td>\n",
       "      <td>5</td>\n",
       "      <td>3</td>\n",
       "      <td>2014-09-18</td>\n",
       "      <td>전체 관람가</td>\n",
       "      <td>129</td>\n",
       "      <td>1789, 바스티유의 연인들</td>\n",
       "    </tr>\n",
       "    <tr>\n",
       "      <th>2</th>\n",
       "      <td>1124</td>\n",
       "      <td>35348.0</td>\n",
       "      <td>1</td>\n",
       "      <td>한윤선</td>\n",
       "      <td>어뮤즈</td>\n",
       "      <td>느와르</td>\n",
       "      <td>3</td>\n",
       "      <td>126</td>\n",
       "      <td>2014-08-14</td>\n",
       "      <td>청소년 관람불가</td>\n",
       "      <td>104</td>\n",
       "      <td>18: 우리들의 성장 느와르</td>\n",
       "    </tr>\n",
       "  </tbody>\n",
       "</table>\n",
       "</div>"
      ],
      "text/plain": [
       "   box_off_num  dir_prev_bfnum  dir_prev_num director      distributor genre  \\\n",
       "0       306642        495535.0             1      김성호           리틀빅픽처스   드라마   \n",
       "1         4778             NaN             0      정성복  유니버설픽쳐스인터내셔널코리아   뮤지컬   \n",
       "2         1124         35348.0             1      한윤선              어뮤즈   느와르   \n",
       "\n",
       "   num_actor  num_staff release_time screening_rat  time  \\\n",
       "0          8        292   2014-12-31        전체 관람가   109   \n",
       "1          5          3   2014-09-18        전체 관람가   129   \n",
       "2          3        126   2014-08-14      청소년 관람불가   104   \n",
       "\n",
       "                         title  \n",
       "0                개를 훔치는 완벽한 방법  \n",
       "1              1789, 바스티유의 연인들  \n",
       "2              18: 우리들의 성장 느와르  "
      ]
     },
     "execution_count": 11,
     "metadata": {},
     "output_type": "execute_result"
    }
   ],
   "source": [
    "# 상위 3개의 행만 조회\n",
    "df.head(3)"
   ]
  },
  {
   "cell_type": "code",
   "execution_count": 12,
   "metadata": {},
   "outputs": [
    {
     "data": {
      "text/html": [
       "<div>\n",
       "<style scoped>\n",
       "    .dataframe tbody tr th:only-of-type {\n",
       "        vertical-align: middle;\n",
       "    }\n",
       "\n",
       "    .dataframe tbody tr th {\n",
       "        vertical-align: top;\n",
       "    }\n",
       "\n",
       "    .dataframe thead th {\n",
       "        text-align: right;\n",
       "    }\n",
       "</style>\n",
       "<table border=\"1\" class=\"dataframe\">\n",
       "  <thead>\n",
       "    <tr style=\"text-align: right;\">\n",
       "      <th></th>\n",
       "      <th>title</th>\n",
       "      <th>time</th>\n",
       "      <th>screening_rat</th>\n",
       "      <th>release_time</th>\n",
       "      <th>num_staff</th>\n",
       "      <th>num_actor</th>\n",
       "      <th>genre</th>\n",
       "      <th>distributor</th>\n",
       "      <th>director</th>\n",
       "      <th>dir_prev_num</th>\n",
       "      <th>dir_prev_bfnum</th>\n",
       "      <th>box_off_num</th>\n",
       "    </tr>\n",
       "  </thead>\n",
       "  <tbody>\n",
       "    <tr>\n",
       "      <th>0</th>\n",
       "      <td>개를 훔치는 완벽한 방법</td>\n",
       "      <td>109</td>\n",
       "      <td>전체 관람가</td>\n",
       "      <td>2014-12-31</td>\n",
       "      <td>292</td>\n",
       "      <td>8</td>\n",
       "      <td>드라마</td>\n",
       "      <td>리틀빅픽처스</td>\n",
       "      <td>김성호</td>\n",
       "      <td>1</td>\n",
       "      <td>495535.0</td>\n",
       "      <td>306642</td>\n",
       "    </tr>\n",
       "    <tr>\n",
       "      <th>1</th>\n",
       "      <td>1789, 바스티유의 연인들</td>\n",
       "      <td>129</td>\n",
       "      <td>전체 관람가</td>\n",
       "      <td>2014-09-18</td>\n",
       "      <td>3</td>\n",
       "      <td>5</td>\n",
       "      <td>뮤지컬</td>\n",
       "      <td>유니버설픽쳐스인터내셔널코리아</td>\n",
       "      <td>정성복</td>\n",
       "      <td>0</td>\n",
       "      <td>NaN</td>\n",
       "      <td>4778</td>\n",
       "    </tr>\n",
       "    <tr>\n",
       "      <th>2</th>\n",
       "      <td>18: 우리들의 성장 느와르</td>\n",
       "      <td>104</td>\n",
       "      <td>청소년 관람불가</td>\n",
       "      <td>2014-08-14</td>\n",
       "      <td>126</td>\n",
       "      <td>3</td>\n",
       "      <td>느와르</td>\n",
       "      <td>어뮤즈</td>\n",
       "      <td>한윤선</td>\n",
       "      <td>1</td>\n",
       "      <td>35348.0</td>\n",
       "      <td>1124</td>\n",
       "    </tr>\n",
       "  </tbody>\n",
       "</table>\n",
       "</div>"
      ],
      "text/plain": [
       "                         title  time screening_rat release_time  num_staff  \\\n",
       "0                개를 훔치는 완벽한 방법   109        전체 관람가   2014-12-31        292   \n",
       "1              1789, 바스티유의 연인들   129        전체 관람가   2014-09-18          3   \n",
       "2              18: 우리들의 성장 느와르   104      청소년 관람불가   2014-08-14        126   \n",
       "\n",
       "   num_actor genre      distributor director  dir_prev_num  dir_prev_bfnum  \\\n",
       "0          8   드라마           리틀빅픽처스      김성호             1        495535.0   \n",
       "1          5   뮤지컬  유니버설픽쳐스인터내셔널코리아      정성복             0             NaN   \n",
       "2          3   느와르              어뮤즈      한윤선             1         35348.0   \n",
       "\n",
       "   box_off_num  \n",
       "0       306642  \n",
       "1         4778  \n",
       "2         1124  "
      ]
     },
     "execution_count": 12,
     "metadata": {},
     "output_type": "execute_result"
    }
   ],
   "source": [
    "# 데이터프레임 역순으로 뒤집기\n",
    "df.loc[:,::-1].head(3)"
   ]
  },
  {
   "cell_type": "code",
   "execution_count": 14,
   "metadata": {},
   "outputs": [],
   "source": [
    "# 역순으로 뒤집어서 새로 저장\n",
    "df = df.loc[:,::-1]"
   ]
  },
  {
   "cell_type": "markdown",
   "metadata": {},
   "source": [
    "### 데이터 살펴보기"
   ]
  },
  {
   "cell_type": "code",
   "execution_count": 17,
   "metadata": {},
   "outputs": [
    {
     "data": {
      "text/plain": [
       "Index(['title', 'time', 'screening_rat', 'release_time', 'num_staff',\n",
       "       'num_actor', 'genre', 'distributor', 'director', 'dir_prev_num',\n",
       "       'dir_prev_bfnum', 'box_off_num'],\n",
       "      dtype='object')"
      ]
     },
     "execution_count": 17,
     "metadata": {},
     "output_type": "execute_result"
    }
   ],
   "source": [
    "# 데이터 프레임을 이루고 있는 컬럼명 추출\n",
    "# 'title', 'time', 'screening_rat', 'release_time', 'num_staff','num_actor', 'genre', 'distributor', 'director', 'dir_prev_num', 'dir_prev_bfnum', 'box_off_num'의 컬럼들을 가지고 있음\n",
    "df.columns"
   ]
  },
  {
   "cell_type": "code",
   "execution_count": 18,
   "metadata": {},
   "outputs": [
    {
     "data": {
      "text/plain": [
       "(600, 12)"
      ]
     },
     "execution_count": 18,
     "metadata": {},
     "output_type": "execute_result"
    }
   ],
   "source": [
    "# 데이터 프레임의 행, 열 크기 확인\n",
    "# 600개의 행과 12개의 열을 가지고 있음\n",
    "df.shape"
   ]
  },
  {
   "cell_type": "code",
   "execution_count": 16,
   "metadata": {
    "scrolled": true
   },
   "outputs": [
    {
     "name": "stdout",
     "output_type": "stream",
     "text": [
      "<class 'pandas.core.frame.DataFrame'>\n",
      "RangeIndex: 600 entries, 0 to 599\n",
      "Data columns (total 12 columns):\n",
      "title             600 non-null object\n",
      "time              600 non-null int64\n",
      "screening_rat     600 non-null object\n",
      "release_time      600 non-null object\n",
      "num_staff         600 non-null int64\n",
      "num_actor         600 non-null int64\n",
      "genre             600 non-null object\n",
      "distributor       600 non-null object\n",
      "director          600 non-null object\n",
      "dir_prev_num      600 non-null int64\n",
      "dir_prev_bfnum    270 non-null float64\n",
      "box_off_num       600 non-null int64\n",
      "dtypes: float64(1), int64(5), object(6)\n",
      "memory usage: 56.3+ KB\n"
     ]
    }
   ],
   "source": [
    "# 데이터에 대한 전반적인 정보 확인\n",
    "# 총 컬럼의 수는 600개이며, float 타입 1개, int 타입 5개, object 타입 6개로 구성\n",
    "# dir_prev_bfnum이 270개로 NaN값이 330개 존재한다는 것을 유추할 수 있음\n",
    "df.info()"
   ]
  },
  {
   "cell_type": "markdown",
   "metadata": {},
   "source": [
    "### 결측치 처리"
   ]
  },
  {
   "cell_type": "code",
   "execution_count": null,
   "metadata": {},
   "outputs": [],
   "source": []
  },
  {
   "cell_type": "code",
   "execution_count": null,
   "metadata": {},
   "outputs": [],
   "source": []
  },
  {
   "cell_type": "code",
   "execution_count": null,
   "metadata": {},
   "outputs": [],
   "source": []
  },
  {
   "cell_type": "markdown",
   "metadata": {},
   "source": [
    "### 이상치 처리"
   ]
  },
  {
   "cell_type": "code",
   "execution_count": null,
   "metadata": {},
   "outputs": [],
   "source": []
  },
  {
   "cell_type": "code",
   "execution_count": null,
   "metadata": {},
   "outputs": [],
   "source": []
  },
  {
   "cell_type": "code",
   "execution_count": null,
   "metadata": {},
   "outputs": [],
   "source": []
  },
  {
   "cell_type": "markdown",
   "metadata": {},
   "source": [
    "### 중복값 처리"
   ]
  },
  {
   "cell_type": "code",
   "execution_count": null,
   "metadata": {},
   "outputs": [],
   "source": []
  },
  {
   "cell_type": "code",
   "execution_count": null,
   "metadata": {},
   "outputs": [],
   "source": []
  },
  {
   "cell_type": "code",
   "execution_count": null,
   "metadata": {},
   "outputs": [],
   "source": []
  }
 ],
 "metadata": {
  "kernelspec": {
   "display_name": "Python 3",
   "language": "python",
   "name": "python3"
  },
  "language_info": {
   "codemirror_mode": {
    "name": "ipython",
    "version": 3
   },
   "file_extension": ".py",
   "mimetype": "text/x-python",
   "name": "python",
   "nbconvert_exporter": "python",
   "pygments_lexer": "ipython3",
   "version": "3.7.0"
  }
 },
 "nbformat": 4,
 "nbformat_minor": 2
}

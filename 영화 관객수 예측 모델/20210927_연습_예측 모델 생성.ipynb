{
 "cells": [
  {
   "cell_type": "markdown",
   "metadata": {},
   "source": [
    "### 데이터 불러오기"
   ]
  },
  {
   "cell_type": "code",
   "execution_count": 1,
   "metadata": {},
   "outputs": [],
   "source": [
    "# pymysql import \n",
    "import pymysql"
   ]
  },
  {
   "cell_type": "code",
   "execution_count": 2,
   "metadata": {},
   "outputs": [],
   "source": [
    "# mysql 연결\n",
    "conn = pymysql.connect(host = '', # DB IP (local에 접속하는 경우 : localhost)\n",
    "                     port = 3306, # 포트 번호\n",
    "                     user = '',\n",
    "                     passwd = '', # mySQL 접속 계정 패스워드\n",
    "                     db = 'movie', # 데이터베이스명\n",
    "                     charset='utf8') # 한글 깨짐 방지"
   ]
  },
  {
   "cell_type": "code",
   "execution_count": 3,
   "metadata": {},
   "outputs": [],
   "source": [
    "# DB 조회 결과를 dictionary로 저장\n",
    "curs = conn.cursor(pymysql.cursors.DictCursor)"
   ]
  },
  {
   "cell_type": "code",
   "execution_count": 4,
   "metadata": {},
   "outputs": [
    {
     "data": {
      "text/plain": [
       "600"
      ]
     },
     "execution_count": 4,
     "metadata": {},
     "output_type": "execute_result"
    }
   ],
   "source": [
    "# movie 데이터 조회\n",
    "sql = '''\n",
    "SELECT * FROM movie\n",
    "''' \n",
    "curs.execute(sql)"
   ]
  },
  {
   "cell_type": "code",
   "execution_count": 5,
   "metadata": {},
   "outputs": [
    {
     "name": "stdout",
     "output_type": "stream",
     "text": [
      "{'title': '              개를 훔치는 완벽한 방법', 'distributor': '리틀빅픽처스', 'genre': '드라마', 'release_time': datetime.date(2014, 12, 31), 'time': 109, 'screening_rat': '전체 관람가', 'director': '김성호', 'dir_prev_bfnum': 495535.0, 'dir_prev_num': 1, 'num_staff': 292, 'num_actor': 8, 'box_off_num': 306642}\n"
     ]
    }
   ],
   "source": [
    "# 데이터 조회 결과를 result에 저장\n",
    "result = curs.fetchall()\n",
    "    \n",
    "print(result[0])"
   ]
  },
  {
   "cell_type": "code",
   "execution_count": 54,
   "metadata": {},
   "outputs": [],
   "source": [
    "# pandas 라이브러리 import\n",
    "import pandas as pd\n",
    "# numpy 라이브러리 import\n",
    "import numpy as np"
   ]
  },
  {
   "cell_type": "code",
   "execution_count": 28,
   "metadata": {
    "scrolled": true
   },
   "outputs": [
    {
     "name": "stdout",
     "output_type": "stream",
     "text": [
      "Index(['title', 'distributor', 'genre', 'release_time', 'time',\n",
      "       'screening_rat', 'director', 'dir_prev_bfnum', 'dir_prev_num',\n",
      "       'num_staff', 'num_actor', 'box_off_num'],\n",
      "      dtype='object')\n",
      "                         title      distributor genre release_time  time  \\\n",
      "0                개를 훔치는 완벽한 방법           리틀빅픽처스   드라마   2014-12-31   109   \n",
      "1              1789, 바스티유의 연인들  유니버설픽쳐스인터내셔널코리아   뮤지컬   2014-09-18   129   \n",
      "2              18: 우리들의 성장 느와르              어뮤즈   느와르   2014-08-14   104   \n",
      "3                     1999, 면회            인디스토리   드라마   2013-02-21    85   \n",
      "4                          26년            인벤트 디    액션   2012-11-29   135   \n",
      "\n",
      "  screening_rat director  dir_prev_bfnum  dir_prev_num  num_staff  num_actor  \\\n",
      "0        전체 관람가      김성호        495535.0             1        292          8   \n",
      "1        전체 관람가      정성복             NaN             0          3          5   \n",
      "2      청소년 관람불가      한윤선         35348.0             1        126          3   \n",
      "3       15세 관람가      김태곤             NaN             0         32          4   \n",
      "4       15세 관람가      조근현       2636380.0             1        365          3   \n",
      "\n",
      "   box_off_num  \n",
      "0       306642  \n",
      "1         4778  \n",
      "2         1124  \n",
      "3         3404  \n",
      "4      2963652  \n"
     ]
    }
   ],
   "source": [
    "# 데이터 프레임으로 result 결과 저장\n",
    "df = pd.DataFrame(result)\n",
    "print(df.columns) # columns\n",
    "print(df.head())"
   ]
  },
  {
   "cell_type": "code",
   "execution_count": 29,
   "metadata": {},
   "outputs": [
    {
     "data": {
      "text/html": [
       "<div>\n",
       "<style scoped>\n",
       "    .dataframe tbody tr th:only-of-type {\n",
       "        vertical-align: middle;\n",
       "    }\n",
       "\n",
       "    .dataframe tbody tr th {\n",
       "        vertical-align: top;\n",
       "    }\n",
       "\n",
       "    .dataframe thead th {\n",
       "        text-align: right;\n",
       "    }\n",
       "</style>\n",
       "<table border=\"1\" class=\"dataframe\">\n",
       "  <thead>\n",
       "    <tr style=\"text-align: right;\">\n",
       "      <th></th>\n",
       "      <th>title</th>\n",
       "      <th>distributor</th>\n",
       "      <th>genre</th>\n",
       "      <th>release_time</th>\n",
       "      <th>time</th>\n",
       "      <th>screening_rat</th>\n",
       "      <th>director</th>\n",
       "      <th>dir_prev_bfnum</th>\n",
       "      <th>dir_prev_num</th>\n",
       "      <th>num_staff</th>\n",
       "      <th>num_actor</th>\n",
       "      <th>box_off_num</th>\n",
       "    </tr>\n",
       "  </thead>\n",
       "  <tbody>\n",
       "    <tr>\n",
       "      <th>0</th>\n",
       "      <td>개를 훔치는 완벽한 방법</td>\n",
       "      <td>리틀빅픽처스</td>\n",
       "      <td>드라마</td>\n",
       "      <td>2014-12-31</td>\n",
       "      <td>109</td>\n",
       "      <td>전체 관람가</td>\n",
       "      <td>김성호</td>\n",
       "      <td>495535.0</td>\n",
       "      <td>1</td>\n",
       "      <td>292</td>\n",
       "      <td>8</td>\n",
       "      <td>306642</td>\n",
       "    </tr>\n",
       "    <tr>\n",
       "      <th>1</th>\n",
       "      <td>1789, 바스티유의 연인들</td>\n",
       "      <td>유니버설픽쳐스인터내셔널코리아</td>\n",
       "      <td>뮤지컬</td>\n",
       "      <td>2014-09-18</td>\n",
       "      <td>129</td>\n",
       "      <td>전체 관람가</td>\n",
       "      <td>정성복</td>\n",
       "      <td>NaN</td>\n",
       "      <td>0</td>\n",
       "      <td>3</td>\n",
       "      <td>5</td>\n",
       "      <td>4778</td>\n",
       "    </tr>\n",
       "    <tr>\n",
       "      <th>2</th>\n",
       "      <td>18: 우리들의 성장 느와르</td>\n",
       "      <td>어뮤즈</td>\n",
       "      <td>느와르</td>\n",
       "      <td>2014-08-14</td>\n",
       "      <td>104</td>\n",
       "      <td>청소년 관람불가</td>\n",
       "      <td>한윤선</td>\n",
       "      <td>35348.0</td>\n",
       "      <td>1</td>\n",
       "      <td>126</td>\n",
       "      <td>3</td>\n",
       "      <td>1124</td>\n",
       "    </tr>\n",
       "  </tbody>\n",
       "</table>\n",
       "</div>"
      ],
      "text/plain": [
       "                         title      distributor genre release_time  time  \\\n",
       "0                개를 훔치는 완벽한 방법           리틀빅픽처스   드라마   2014-12-31   109   \n",
       "1              1789, 바스티유의 연인들  유니버설픽쳐스인터내셔널코리아   뮤지컬   2014-09-18   129   \n",
       "2              18: 우리들의 성장 느와르              어뮤즈   느와르   2014-08-14   104   \n",
       "\n",
       "  screening_rat director  dir_prev_bfnum  dir_prev_num  num_staff  num_actor  \\\n",
       "0        전체 관람가      김성호        495535.0             1        292          8   \n",
       "1        전체 관람가      정성복             NaN             0          3          5   \n",
       "2      청소년 관람불가      한윤선         35348.0             1        126          3   \n",
       "\n",
       "   box_off_num  \n",
       "0       306642  \n",
       "1         4778  \n",
       "2         1124  "
      ]
     },
     "execution_count": 29,
     "metadata": {},
     "output_type": "execute_result"
    }
   ],
   "source": [
    "# 상위 3개의 행만 조회\n",
    "df.head(3)"
   ]
  },
  {
   "cell_type": "markdown",
   "metadata": {},
   "source": [
    "### 데이터 살펴보기"
   ]
  },
  {
   "cell_type": "code",
   "execution_count": 30,
   "metadata": {},
   "outputs": [
    {
     "data": {
      "text/plain": [
       "Index(['title', 'distributor', 'genre', 'release_time', 'time',\n",
       "       'screening_rat', 'director', 'dir_prev_bfnum', 'dir_prev_num',\n",
       "       'num_staff', 'num_actor', 'box_off_num'],\n",
       "      dtype='object')"
      ]
     },
     "execution_count": 30,
     "metadata": {},
     "output_type": "execute_result"
    }
   ],
   "source": [
    "# 데이터 프레임을 이루고 있는 컬럼명 추출\n",
    "# 'title', 'time', 'screening_rat', 'release_time', 'num_staff','num_actor', 'genre', 'distributor', 'director', 'dir_prev_num', 'dir_prev_bfnum', 'box_off_num'의 컬럼들을 가지고 있음\n",
    "df.columns"
   ]
  },
  {
   "cell_type": "code",
   "execution_count": 31,
   "metadata": {},
   "outputs": [
    {
     "data": {
      "text/plain": [
       "(600, 12)"
      ]
     },
     "execution_count": 31,
     "metadata": {},
     "output_type": "execute_result"
    }
   ],
   "source": [
    "# 데이터 프레임의 행, 열 크기 확인\n",
    "# 600개의 행과 12개의 열을 가지고 있음\n",
    "df.shape"
   ]
  },
  {
   "cell_type": "code",
   "execution_count": 32,
   "metadata": {
    "scrolled": true
   },
   "outputs": [
    {
     "name": "stdout",
     "output_type": "stream",
     "text": [
      "<class 'pandas.core.frame.DataFrame'>\n",
      "RangeIndex: 600 entries, 0 to 599\n",
      "Data columns (total 12 columns):\n",
      " #   Column          Non-Null Count  Dtype  \n",
      "---  ------          --------------  -----  \n",
      " 0   title           600 non-null    object \n",
      " 1   distributor     600 non-null    object \n",
      " 2   genre           600 non-null    object \n",
      " 3   release_time    600 non-null    object \n",
      " 4   time            600 non-null    int64  \n",
      " 5   screening_rat   600 non-null    object \n",
      " 6   director        600 non-null    object \n",
      " 7   dir_prev_bfnum  270 non-null    float64\n",
      " 8   dir_prev_num    600 non-null    int64  \n",
      " 9   num_staff       600 non-null    int64  \n",
      " 10  num_actor       600 non-null    int64  \n",
      " 11  box_off_num     600 non-null    int64  \n",
      "dtypes: float64(1), int64(5), object(6)\n",
      "memory usage: 56.4+ KB\n"
     ]
    }
   ],
   "source": [
    "# 데이터에 대한 전반적인 정보 확인\n",
    "# 총 컬럼의 수는 600개이며, float 타입 1개, int 타입 5개, object 타입 6개로 구성\n",
    "# dir_prev_bfnum이 270개로 NaN값이 330개 존재한다는 것을 유추할 수 있음\n",
    "df.info()"
   ]
  },
  {
   "cell_type": "markdown",
   "metadata": {},
   "source": [
    "### 결측치 처리\n",
    "- 0으로 대체하기\n",
    "- 평균으로 대체하기"
   ]
  },
  {
   "cell_type": "code",
   "execution_count": 33,
   "metadata": {},
   "outputs": [
    {
     "data": {
      "text/html": [
       "<div>\n",
       "<style scoped>\n",
       "    .dataframe tbody tr th:only-of-type {\n",
       "        vertical-align: middle;\n",
       "    }\n",
       "\n",
       "    .dataframe tbody tr th {\n",
       "        vertical-align: top;\n",
       "    }\n",
       "\n",
       "    .dataframe thead th {\n",
       "        text-align: right;\n",
       "    }\n",
       "</style>\n",
       "<table border=\"1\" class=\"dataframe\">\n",
       "  <thead>\n",
       "    <tr style=\"text-align: right;\">\n",
       "      <th></th>\n",
       "      <th>title</th>\n",
       "      <th>distributor</th>\n",
       "      <th>genre</th>\n",
       "      <th>release_time</th>\n",
       "      <th>time</th>\n",
       "      <th>screening_rat</th>\n",
       "      <th>director</th>\n",
       "      <th>dir_prev_bfnum</th>\n",
       "      <th>dir_prev_num</th>\n",
       "      <th>num_staff</th>\n",
       "      <th>num_actor</th>\n",
       "      <th>box_off_num</th>\n",
       "    </tr>\n",
       "  </thead>\n",
       "  <tbody>\n",
       "    <tr>\n",
       "      <th>0</th>\n",
       "      <td>False</td>\n",
       "      <td>False</td>\n",
       "      <td>False</td>\n",
       "      <td>False</td>\n",
       "      <td>False</td>\n",
       "      <td>False</td>\n",
       "      <td>False</td>\n",
       "      <td>False</td>\n",
       "      <td>False</td>\n",
       "      <td>False</td>\n",
       "      <td>False</td>\n",
       "      <td>False</td>\n",
       "    </tr>\n",
       "    <tr>\n",
       "      <th>1</th>\n",
       "      <td>False</td>\n",
       "      <td>False</td>\n",
       "      <td>False</td>\n",
       "      <td>False</td>\n",
       "      <td>False</td>\n",
       "      <td>False</td>\n",
       "      <td>False</td>\n",
       "      <td>True</td>\n",
       "      <td>False</td>\n",
       "      <td>False</td>\n",
       "      <td>False</td>\n",
       "      <td>False</td>\n",
       "    </tr>\n",
       "    <tr>\n",
       "      <th>2</th>\n",
       "      <td>False</td>\n",
       "      <td>False</td>\n",
       "      <td>False</td>\n",
       "      <td>False</td>\n",
       "      <td>False</td>\n",
       "      <td>False</td>\n",
       "      <td>False</td>\n",
       "      <td>False</td>\n",
       "      <td>False</td>\n",
       "      <td>False</td>\n",
       "      <td>False</td>\n",
       "      <td>False</td>\n",
       "    </tr>\n",
       "    <tr>\n",
       "      <th>3</th>\n",
       "      <td>False</td>\n",
       "      <td>False</td>\n",
       "      <td>False</td>\n",
       "      <td>False</td>\n",
       "      <td>False</td>\n",
       "      <td>False</td>\n",
       "      <td>False</td>\n",
       "      <td>True</td>\n",
       "      <td>False</td>\n",
       "      <td>False</td>\n",
       "      <td>False</td>\n",
       "      <td>False</td>\n",
       "    </tr>\n",
       "    <tr>\n",
       "      <th>4</th>\n",
       "      <td>False</td>\n",
       "      <td>False</td>\n",
       "      <td>False</td>\n",
       "      <td>False</td>\n",
       "      <td>False</td>\n",
       "      <td>False</td>\n",
       "      <td>False</td>\n",
       "      <td>False</td>\n",
       "      <td>False</td>\n",
       "      <td>False</td>\n",
       "      <td>False</td>\n",
       "      <td>False</td>\n",
       "    </tr>\n",
       "    <tr>\n",
       "      <th>...</th>\n",
       "      <td>...</td>\n",
       "      <td>...</td>\n",
       "      <td>...</td>\n",
       "      <td>...</td>\n",
       "      <td>...</td>\n",
       "      <td>...</td>\n",
       "      <td>...</td>\n",
       "      <td>...</td>\n",
       "      <td>...</td>\n",
       "      <td>...</td>\n",
       "      <td>...</td>\n",
       "      <td>...</td>\n",
       "    </tr>\n",
       "    <tr>\n",
       "      <th>595</th>\n",
       "      <td>False</td>\n",
       "      <td>False</td>\n",
       "      <td>False</td>\n",
       "      <td>False</td>\n",
       "      <td>False</td>\n",
       "      <td>False</td>\n",
       "      <td>False</td>\n",
       "      <td>True</td>\n",
       "      <td>False</td>\n",
       "      <td>False</td>\n",
       "      <td>False</td>\n",
       "      <td>False</td>\n",
       "    </tr>\n",
       "    <tr>\n",
       "      <th>596</th>\n",
       "      <td>False</td>\n",
       "      <td>False</td>\n",
       "      <td>False</td>\n",
       "      <td>False</td>\n",
       "      <td>False</td>\n",
       "      <td>False</td>\n",
       "      <td>False</td>\n",
       "      <td>True</td>\n",
       "      <td>False</td>\n",
       "      <td>False</td>\n",
       "      <td>False</td>\n",
       "      <td>False</td>\n",
       "    </tr>\n",
       "    <tr>\n",
       "      <th>597</th>\n",
       "      <td>False</td>\n",
       "      <td>False</td>\n",
       "      <td>False</td>\n",
       "      <td>False</td>\n",
       "      <td>False</td>\n",
       "      <td>False</td>\n",
       "      <td>False</td>\n",
       "      <td>True</td>\n",
       "      <td>False</td>\n",
       "      <td>False</td>\n",
       "      <td>False</td>\n",
       "      <td>False</td>\n",
       "    </tr>\n",
       "    <tr>\n",
       "      <th>598</th>\n",
       "      <td>False</td>\n",
       "      <td>False</td>\n",
       "      <td>False</td>\n",
       "      <td>False</td>\n",
       "      <td>False</td>\n",
       "      <td>False</td>\n",
       "      <td>False</td>\n",
       "      <td>False</td>\n",
       "      <td>False</td>\n",
       "      <td>False</td>\n",
       "      <td>False</td>\n",
       "      <td>False</td>\n",
       "    </tr>\n",
       "    <tr>\n",
       "      <th>599</th>\n",
       "      <td>False</td>\n",
       "      <td>False</td>\n",
       "      <td>False</td>\n",
       "      <td>False</td>\n",
       "      <td>False</td>\n",
       "      <td>False</td>\n",
       "      <td>False</td>\n",
       "      <td>False</td>\n",
       "      <td>False</td>\n",
       "      <td>False</td>\n",
       "      <td>False</td>\n",
       "      <td>False</td>\n",
       "    </tr>\n",
       "  </tbody>\n",
       "</table>\n",
       "<p>600 rows × 12 columns</p>\n",
       "</div>"
      ],
      "text/plain": [
       "     title  distributor  genre  release_time   time  screening_rat  director  \\\n",
       "0    False        False  False         False  False          False     False   \n",
       "1    False        False  False         False  False          False     False   \n",
       "2    False        False  False         False  False          False     False   \n",
       "3    False        False  False         False  False          False     False   \n",
       "4    False        False  False         False  False          False     False   \n",
       "..     ...          ...    ...           ...    ...            ...       ...   \n",
       "595  False        False  False         False  False          False     False   \n",
       "596  False        False  False         False  False          False     False   \n",
       "597  False        False  False         False  False          False     False   \n",
       "598  False        False  False         False  False          False     False   \n",
       "599  False        False  False         False  False          False     False   \n",
       "\n",
       "     dir_prev_bfnum  dir_prev_num  num_staff  num_actor  box_off_num  \n",
       "0             False         False      False      False        False  \n",
       "1              True         False      False      False        False  \n",
       "2             False         False      False      False        False  \n",
       "3              True         False      False      False        False  \n",
       "4             False         False      False      False        False  \n",
       "..              ...           ...        ...        ...          ...  \n",
       "595            True         False      False      False        False  \n",
       "596            True         False      False      False        False  \n",
       "597            True         False      False      False        False  \n",
       "598           False         False      False      False        False  \n",
       "599           False         False      False      False        False  \n",
       "\n",
       "[600 rows x 12 columns]"
      ]
     },
     "execution_count": 33,
     "metadata": {},
     "output_type": "execute_result"
    }
   ],
   "source": [
    "# 데이터프레임에 null 값이 존재하는지 확인\n",
    "# dir_prev_bfnum에 Ture = null값이 존재한다는 것을 알 수 있음\n",
    "pd.isnull(df)"
   ]
  },
  {
   "cell_type": "code",
   "execution_count": 34,
   "metadata": {},
   "outputs": [
    {
     "data": {
      "text/plain": [
       "title               0\n",
       "distributor         0\n",
       "genre               0\n",
       "release_time        0\n",
       "time                0\n",
       "screening_rat       0\n",
       "director            0\n",
       "dir_prev_bfnum    330\n",
       "dir_prev_num        0\n",
       "num_staff           0\n",
       "num_actor           0\n",
       "box_off_num         0\n",
       "dtype: int64"
      ]
     },
     "execution_count": 34,
     "metadata": {},
     "output_type": "execute_result"
    }
   ],
   "source": [
    "# 데이터프레임 각 컬럼에 null 값이 총 몇개 존재하는지 확인\n",
    "# dir_prev_bfnum에 330개 존재\n",
    "df.isnull().sum()"
   ]
  },
  {
   "cell_type": "code",
   "execution_count": 35,
   "metadata": {},
   "outputs": [],
   "source": [
    "# 결측값을 0으로 대체\n",
    "df_zero = df.fillna(0)"
   ]
  },
  {
   "cell_type": "code",
   "execution_count": 36,
   "metadata": {},
   "outputs": [
    {
     "data": {
      "text/html": [
       "<div>\n",
       "<style scoped>\n",
       "    .dataframe tbody tr th:only-of-type {\n",
       "        vertical-align: middle;\n",
       "    }\n",
       "\n",
       "    .dataframe tbody tr th {\n",
       "        vertical-align: top;\n",
       "    }\n",
       "\n",
       "    .dataframe thead th {\n",
       "        text-align: right;\n",
       "    }\n",
       "</style>\n",
       "<table border=\"1\" class=\"dataframe\">\n",
       "  <thead>\n",
       "    <tr style=\"text-align: right;\">\n",
       "      <th></th>\n",
       "      <th>title</th>\n",
       "      <th>distributor</th>\n",
       "      <th>genre</th>\n",
       "      <th>release_time</th>\n",
       "      <th>time</th>\n",
       "      <th>screening_rat</th>\n",
       "      <th>director</th>\n",
       "      <th>dir_prev_bfnum</th>\n",
       "      <th>dir_prev_num</th>\n",
       "      <th>num_staff</th>\n",
       "      <th>num_actor</th>\n",
       "      <th>box_off_num</th>\n",
       "    </tr>\n",
       "  </thead>\n",
       "  <tbody>\n",
       "    <tr>\n",
       "      <th>597</th>\n",
       "      <td>흉터</td>\n",
       "      <td>(주)키노아이</td>\n",
       "      <td>드라마</td>\n",
       "      <td>2011-10-13</td>\n",
       "      <td>65</td>\n",
       "      <td>15세 관람가</td>\n",
       "      <td>임우성</td>\n",
       "      <td>0.0</td>\n",
       "      <td>0</td>\n",
       "      <td>17</td>\n",
       "      <td>2</td>\n",
       "      <td>256</td>\n",
       "    </tr>\n",
       "    <tr>\n",
       "      <th>598</th>\n",
       "      <td>희망의 별 - 이퀘지레템바</td>\n",
       "      <td>마운틴 픽처스</td>\n",
       "      <td>다큐멘터리</td>\n",
       "      <td>2010-10-07</td>\n",
       "      <td>85</td>\n",
       "      <td>전체 관람가</td>\n",
       "      <td>이홍석</td>\n",
       "      <td>59648.5</td>\n",
       "      <td>2</td>\n",
       "      <td>1</td>\n",
       "      <td>2</td>\n",
       "      <td>1298</td>\n",
       "    </tr>\n",
       "    <tr>\n",
       "      <th>599</th>\n",
       "      <td>히말라야</td>\n",
       "      <td>CJ 엔터테인먼트</td>\n",
       "      <td>드라마</td>\n",
       "      <td>2015-12-16</td>\n",
       "      <td>124</td>\n",
       "      <td>12세 관람가</td>\n",
       "      <td>이석훈</td>\n",
       "      <td>3549470.0</td>\n",
       "      <td>4</td>\n",
       "      <td>520</td>\n",
       "      <td>2</td>\n",
       "      <td>7759711</td>\n",
       "    </tr>\n",
       "  </tbody>\n",
       "</table>\n",
       "</div>"
      ],
      "text/plain": [
       "              title distributor  genre release_time  time screening_rat  \\\n",
       "597              흉터     (주)키노아이    드라마   2011-10-13    65       15세 관람가   \n",
       "598  희망의 별 - 이퀘지레템바     마운틴 픽처스  다큐멘터리   2010-10-07    85        전체 관람가   \n",
       "599            히말라야   CJ 엔터테인먼트    드라마   2015-12-16   124       12세 관람가   \n",
       "\n",
       "    director  dir_prev_bfnum  dir_prev_num  num_staff  num_actor  box_off_num  \n",
       "597      임우성             0.0             0         17          2          256  \n",
       "598      이홍석         59648.5             2          1          2         1298  \n",
       "599      이석훈       3549470.0             4        520          2      7759711  "
      ]
     },
     "execution_count": 36,
     "metadata": {},
     "output_type": "execute_result"
    }
   ],
   "source": [
    "# 하위 3개의 행만 보여줌\n",
    "df_zero.tail(3)"
   ]
  },
  {
   "cell_type": "markdown",
   "metadata": {},
   "source": [
    "# 예측 모델 생성\n",
    "- 사이킷런의 linear_models 모듈 활용\n",
    "- 독립변수: 'time', 'dir_prev_bfnum', 'dir_prev_num', 'num_staff', 'num_actor' (숫자로 구성된 변수만 사용)\n",
    "- 종속변수: 'box_off_num'"
   ]
  },
  {
   "cell_type": "markdown",
   "metadata": {},
   "source": [
    "### LinearRegression 클래스\n",
    "- 예측값과 실제값의 RSS를 최소화해 OLS 추정방식으로 구현한 클래스"
   ]
  },
  {
   "cell_type": "code",
   "execution_count": 39,
   "metadata": {},
   "outputs": [
    {
     "data": {
      "text/plain": [
       "Index(['title', 'distributor', 'genre', 'release_time', 'time',\n",
       "       'screening_rat', 'director', 'dir_prev_bfnum', 'dir_prev_num',\n",
       "       'num_staff', 'num_actor', 'box_off_num'],\n",
       "      dtype='object')"
      ]
     },
     "execution_count": 39,
     "metadata": {},
     "output_type": "execute_result"
    }
   ],
   "source": [
    "df_zero.columns"
   ]
  },
  {
   "cell_type": "code",
   "execution_count": 49,
   "metadata": {},
   "outputs": [],
   "source": [
    "# 시각화를 위해 pyplot, seaborn 임포트\n",
    "import matplotlib.pyplot as plt\n",
    "import seaborn as sns"
   ]
  },
  {
   "cell_type": "code",
   "execution_count": 50,
   "metadata": {},
   "outputs": [
    {
     "data": {
      "image/png": "[encoded data removed]",
      "text/plain": [
       "<Figure size 1152x576 with 6 Axes>"
      ]
     },
     "metadata": {
      "needs_background": "light"
     },
     "output_type": "display_data"
    }
   ],
   "source": [
    "# 2개의 행과 4개의 열을 가진 subplots를 이용. axs는 4x2개의 ax를 가짐.\n",
    "fig, axs = plt.subplots(figsize=(16,8) , ncols=3 , nrows=2)\n",
    "lm_features = ['time', 'dir_prev_bfnum', 'dir_prev_num', 'num_staff', 'num_actor']\n",
    "for i , feature in enumerate(lm_features):\n",
    "    row = int(i/3)\n",
    "    col = i%3\n",
    "    # seaborn의 regplot을 이용해 산점도와 선형 회귀 직선을 함께 표현\n",
    "    sns.regplot(x=feature , y='box_off_num',data=df_zero , ax=axs[row][col])"
   ]
  },
  {
   "cell_type": "markdown",
   "metadata": {},
   "source": [
    "- 산점도와 선형회귀를 확인해 봤을 때, 눈에 띄는 선형성은 없음"
   ]
  },
  {
   "cell_type": "code",
   "execution_count": 51,
   "metadata": {},
   "outputs": [],
   "source": [
    "# 사이킷런 라이브러리 임포트\n",
    "# train 데이터와 test 데이터로 분리\n",
    "from sklearn.model_selection import train_test_split\n",
    "# 선형회귀 모델\n",
    "from sklearn.linear_model import LinearRegression\n",
    "# MSE와 R2 스코어를 확인\n",
    "from sklearn.metrics import mean_squared_error , r2_score"
   ]
  },
  {
   "cell_type": "code",
   "execution_count": 52,
   "metadata": {},
   "outputs": [],
   "source": [
    "# 종속변수 지정\n",
    "y_target = df_zero['box_off_num']\n",
    "# 독립변수로 지정할 컬럼\n",
    "X_data = df_zero[['time', 'dir_prev_bfnum', 'dir_prev_num', 'num_staff', 'num_actor']]\n",
    "\n",
    "# train 데이터와 test 데이터 분리 \n",
    "# test_size: test 데이터의 비율, 기본값은 0.25\n",
    "# random_state: 반복 연산 시에 동일한 결과를 얻기위해 고정시키는 값\n",
    "X_train , X_test , y_train , y_test = train_test_split(X_data , y_target ,test_size=0.3, random_state=600)"
   ]
  },
  {
   "cell_type": "code",
   "execution_count": 57,
   "metadata": {},
   "outputs": [],
   "source": [
    "# Linear Regression OLS로 학습/예측/평가 수행. \n",
    "lr = LinearRegression()\n",
    "lr.fit(X_train ,y_train)\n",
    "y_preds = lr.predict(X_test)"
   ]
  },
  {
   "cell_type": "code",
   "execution_count": 61,
   "metadata": {},
   "outputs": [
    {
     "data": {
      "image/png": "[encoded data removed]",
      "text/plain": [
       "<Figure size 432x288 with 1 Axes>"
      ]
     },
     "metadata": {
      "needs_background": "light"
     },
     "output_type": "display_data"
    }
   ],
   "source": [
    "# 잔차를 플로트\n",
    "plt.scatter(y_preds, y_preds- y_test, color = 'blue')\n",
    "# x축에 따른 직선을 플로트\n",
    "plt.hlines(y = 0, xmin = -10, xmax = 50, color = 'black') \n",
    "plt.title('Residual Plot')                                \n",
    "plt.xlabel('Predicted Values')                          \n",
    "plt.ylabel('Residuals')                                   \n",
    "plt.grid()                                              \n",
    "\n",
    "plt.show()  "
   ]
  },
  {
   "cell_type": "code",
   "execution_count": 62,
   "metadata": {},
   "outputs": [
    {
     "name": "stdout",
     "output_type": "stream",
     "text": [
      "MSE train data:  2169564837977.8005\n",
      "MSE test data:  2474256078233.903\n"
     ]
    }
   ],
   "source": [
    "# 평균 제곱 오차 확인\n",
    "\n",
    "# 학습데이터에 대한 종속변수를 예측\n",
    "y_train_pred = lr.predict(X_train) \n",
    "\n",
    "# 학습 데이터를 사용했을 때의 평균 제곱 오차를 출력\n",
    "print('MSE train data: ', mean_squared_error(y_train, y_train_pred))\n",
    "# 검증 데이터를 사용했을 때의 평균 제곱 오차를 출력\n",
    "print('MSE test data: ', mean_squared_error(y_test, y_preds))         "
   ]
  },
  {
   "cell_type": "markdown",
   "metadata": {},
   "source": [
    "- MSE 값은 낮을 수록 좋은데 너무 큰 값이 나타남\n",
    "- 성능이 좋지 않다는 것을 예상할 수 있음"
   ]
  },
  {
   "cell_type": "code",
   "execution_count": 64,
   "metadata": {
    "scrolled": true
   },
   "outputs": [
    {
     "name": "stdout",
     "output_type": "stream",
     "text": [
      "r2 train data:  0.3011438297654473\n",
      "r2 test data:  0.3595594839749322\n"
     ]
    }
   ],
   "source": [
    "# r2 score 확인\n",
    "print('r2 train data: ', r2_score(y_train, y_train_pred))\n",
    "print('r2 test data: ', r2_score(y_test, y_preds))"
   ]
  },
  {
   "cell_type": "markdown",
   "metadata": {},
   "source": [
    "- r2 score는 1에 가까울 수록 좋지만 0.3이라는 값이 나타남\n",
    "- 마찬가지로 성능이 좋지 않다는 것을 예상할 수 있음"
   ]
  },
  {
   "cell_type": "code",
   "execution_count": 66,
   "metadata": {},
   "outputs": [
    {
     "name": "stdout",
     "output_type": "stream",
     "text": [
      "[-205002.9599246]\n"
     ]
    }
   ],
   "source": [
    "# 러닝타임 120분, 평균 관객수 500명, 감독의 전 영화 개수 10개, 스텝수 30명, 주연배우 5명으로 예측한 결과\n",
    "# -205002라는 이상한 결과를 얻음\n",
    "print(lr.predict([[120, 5000, 10, 30, 5]]))"
   ]
  }
 ],
 "metadata": {
  "kernelspec": {
   "display_name": "Python 3",
   "language": "python",
   "name": "python3"
  },
  "language_info": {
   "codemirror_mode": {
    "name": "ipython",
    "version": 3
   },
   "file_extension": ".py",
   "mimetype": "text/x-python",
   "name": "python",
   "nbconvert_exporter": "python",
   "pygments_lexer": "ipython3",
   "version": "3.8.8"
  }
 },
 "nbformat": 4,
 "nbformat_minor": 2
}
